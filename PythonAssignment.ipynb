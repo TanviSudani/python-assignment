{
 "cells": [
  {
   "cell_type": "code",
   "execution_count": 5,
   "id": "fa9ea4f3",
   "metadata": {},
   "outputs": [
    {
     "name": "stdout",
     "output_type": "stream",
     "text": [
      "{1: 1, 2: 4, 3: 9, 4: 16, 5: 25}\n"
     ]
    }
   ],
   "source": [
    "#1.Write a Python script to generate and print a dictionary that contains a number (between 1 and n) in the form (x, x*x)\n",
    "#Sample Dictionary ( n = 5) : \n",
    "#Expected Output : {1: 1, 2: 4, 3: 9, 4: 16, 5: 25}\n",
    "\n",
    "n=5\n",
    "d = dict()\n",
    "\n",
    "for x in range(1,6):\n",
    "    d[x]=x*x\n",
    "\n",
    "print(d) "
   ]
  },
  {
   "cell_type": "code",
   "execution_count": 6,
   "id": "1108d8ca",
   "metadata": {},
   "outputs": [
    {
     "name": "stdout",
     "output_type": "stream",
     "text": [
      "{'a': 400, 'b': 400, 'd': 400, 'c': 300}\n"
     ]
    }
   ],
   "source": [
    "#2.Write a Python program to combine two dictionary adding values for common keys\n",
    "# d1 = {'a': 100, 'b': 200, 'c':300}\n",
    "# d2 = {'a': 300, 'b': 200, 'd':400}\n",
    "# Sample output: Counter({'a': 400, 'b': 400, 'd': 400, 'c': 300}\n",
    "\n",
    "a={}\n",
    "d1 = {'a': 100, 'b': 200, 'c':300}\n",
    "d2 = {'a': 300, 'b': 200,'d':400}\n",
    "for i,j in d2.items():\n",
    "    a[i]=j\n",
    "for i,j in d1.items():\n",
    "    if i in a:\n",
    "        a[i]=a[i]+j\n",
    "    else:\n",
    "        a[i]=j\n",
    "print(a)"
   ]
  },
  {
   "cell_type": "code",
   "execution_count": 9,
   "id": "addbc5bb",
   "metadata": {},
   "outputs": [
    {
     "name": "stdout",
     "output_type": "stream",
     "text": [
      "{'S002', 'S009', 'S001', 'S005', 'S007'}\n"
     ]
    }
   ],
   "source": [
    "#3.Write a Python program to print all unique values in a dictionary\n",
    "#Sample Data : [{\"V\":\"S001\"}, {\"V\": \"S002\"}, {\"VI\": \"S001\"}, {\"VI\": \"S005\"}, {\"VII\":\"S005\"}, {\"V\":\"S009\"},{\"VIII\":\"S007\"}]\n",
    "#Expected Output : Unique Values: {'S005', 'S002', 'S007', 'S001', 'S009'}\n",
    "\n",
    "d= [{\"V\":\"S001\"}, {\"V\": \"S002\"}, {\"VI\": \"S001\"}, {\"VI\": \"S005\"}, {\"VII\":\"S005\"}, {\"V\":\"S009\"},{\"VIII\":\"S007\"}]\n",
    "l1=[]\n",
    "for i in d:\n",
    "    for j in i.values():\n",
    "        if j not in l1:\n",
    "            l1.append(j)\n",
    "print(set(l1))"
   ]
  },
  {
   "cell_type": "code",
   "execution_count": 88,
   "id": "2b793357",
   "metadata": {},
   "outputs": [
    {
     "name": "stdout",
     "output_type": "stream",
     "text": [
      "ac\n",
      "ad\n",
      "bc\n",
      "bd\n"
     ]
    }
   ],
   "source": [
    "#4.Write a Python program to create and display all combinations of letters, selecting each letter from a different key in a dictionary.\n",
    "#*Sample data : {'1':['a','b'], '2':['c','d']}\n",
    "#Expected Output: \n",
    "#ac\n",
    "#ad\n",
    "#bc\n",
    "#bd\n",
    "\n",
    "d={1: ['a','b'], 2: ['c','d']}\n",
    "for i in d[1]:\n",
    "    for j in d[2]:\n",
    "        print(i+j)"
   ]
  },
  {
   "cell_type": "code",
   "execution_count": 89,
   "id": "d14de7d0",
   "metadata": {},
   "outputs": [
    {
     "name": "stdout",
     "output_type": "stream",
     "text": [
      "{'w': 1, '3': 1, 'r': 2, 'e': 2, 's': 1, 'o': 1, 'u': 1, 'c': 1}\n"
     ]
    }
   ],
   "source": [
    "#5.Write a Python program to create a dictionary from a string.\n",
    "#* Note: Track the count of the letters from the string.\n",
    "#* Sample string : 'w3resource'\n",
    "#* Expected output: {'3': 1, 's': 1, 'r': 2, 'u': 1, 'w': 1, 'c': 1, 'e': 2, 'o': 1}\n",
    "\n",
    "s='w3resource'\n",
    "d={}\n",
    "for i in s:\n",
    "    j=s.count(i)\n",
    "    d.update({i:j}) \n",
    "print(d)"
   ]
  },
  {
   "cell_type": "code",
   "execution_count": 43,
   "id": "05e9fd62",
   "metadata": {},
   "outputs": [
    {
     "name": "stdout",
     "output_type": "stream",
     "text": [
      "2 dictionaries have success as True\n"
     ]
    }
   ],
   "source": [
    "#6.Write a Python program to count the values associated with key in a dictionary.\n",
    "#Sample data: = [{'id': 1, 'success': True, 'name': 'Lary'}, {'id': 2, 'success': False, 'name': 'Rabi'}, {'id': 3, 'success': True, 'name': 'Alex'}]\n",
    "#Expected result: Count of how many dictionaries have success as True\n",
    "\n",
    "dic = [{'id': 1, 'success': True, 'name': 'Lary'},{'id': 2, 'success': False, 'name': 'Rabi'},{'id': 3, 'success': True, 'name': 'Alex'}]\n",
    "#print(sum(i['id'] for i in dic))\n",
    "#print(sum(i['success'] for i in dic))\n",
    "total=0\n",
    "\n",
    "for i in dic:\n",
    "    if i['success'] == 1:\n",
    "        total += 1\n",
    "print(total,'dictionaries have success as True')\n"
   ]
  },
  {
   "cell_type": "code",
   "execution_count": null,
   "id": "356e9f21",
   "metadata": {},
   "outputs": [],
   "source": [
    "#7. Write a Python program to convert a list into a nested dictionary of keys.\n"
   ]
  },
  {
   "cell_type": "code",
   "execution_count": 66,
   "id": "95837ed8",
   "metadata": {},
   "outputs": [
    {
     "name": "stdout",
     "output_type": "stream",
     "text": [
      "{'l1': ['mitali', 'nikunj', 'tanvi']}\n",
      "{'l2': ['brinda', 'margi', 'twisha']}\n"
     ]
    }
   ],
   "source": [
    "#8. Write a Python program to sort a list alphabetically in a dictionary.\n",
    "\n",
    "d={'l1':['tanvi','mitali','nikunj'],'l2':['margi','brinda','twisha']}\n",
    "\n",
    "for i,j in d.items():\n",
    "    a={i:sorted(j)}\n",
    "    print(a)"
   ]
  },
  {
   "cell_type": "code",
   "execution_count": 110,
   "id": "88aab90b",
   "metadata": {},
   "outputs": [
    {
     "name": "stdout",
     "output_type": "stream",
     "text": [
      "[('Chemistry', 87), ('Physics', 83), ('Math', 81)]\n"
     ]
    }
   ],
   "source": [
    "#9. Write a Python program to sort Counter by value.\n",
    "#* Sample data : {'Math':81, 'Physics':83, 'Chemistry':87}\n",
    "#* Expected data: [('Chemistry', 87), ('Physics', 83), ('Math', 81)]\n",
    "\n",
    "dic={'Math':81, 'Physics':83, 'Chemistry':87}\n",
    "s= sorted(dic.items() , key=lambda a:a[1] , reverse=True)\n",
    "print(s)"
   ]
  },
  {
   "cell_type": "code",
   "execution_count": 116,
   "id": "541d5d8f",
   "metadata": {},
   "outputs": [
    {
     "name": "stdout",
     "output_type": "stream",
     "text": [
      "key1 : 1 is present in both x and y\n"
     ]
    }
   ],
   "source": [
    "#10. Write a Python program to match key values in two dictionaries. Go to the editor\n",
    "# * Sample dictionary: {'key1': 1, 'key2': 3, 'key3': 2}, {'key1': 1, 'key2': 2}\n",
    "# * Expected output: key1: 1 is present in both x and y\n",
    "\n",
    "x = {'key1': 1, 'key2': 3, 'key3': 2}\n",
    "y = {'key1': 1, 'key2': 2}\n",
    "\n",
    "for i,j in x.items():\n",
    "    for a,b in y.items():\n",
    "        if {i:j} == {a:b}:\n",
    "            print(i,':',j,'is present in both x and y')"
   ]
  },
  {
   "cell_type": "code",
   "execution_count": 117,
   "id": "b28e65a5",
   "metadata": {},
   "outputs": [
    {
     "name": "stdout",
     "output_type": "stream",
     "text": [
      "List is not empty\n"
     ]
    }
   ],
   "source": [
    "# 11.Write a Python program to check a list is empty or not\n",
    "\n",
    "lis=[1,2,3]\n",
    "\n",
    "if len(lis) != 0:\n",
    "    print('List is not empty.')\n",
    "else:\n",
    "    print('List is empty.')"
   ]
  },
  {
   "cell_type": "code",
   "execution_count": 118,
   "id": "6ac93345",
   "metadata": {},
   "outputs": [
    {
     "name": "stdout",
     "output_type": "stream",
     "text": [
      "{1, 2, 3, 'abc', 'ef', '1'}\n"
     ]
    }
   ],
   "source": [
    "#12. Write a Python program to remove duplicates from a list.\n",
    "\n",
    "lis=[1,2,3,1,'1','abc','abc','ef']\n",
    "a=set(lis)\n",
    "print(a)"
   ]
  },
  {
   "cell_type": "code",
   "execution_count": 142,
   "id": "b1da1604",
   "metadata": {},
   "outputs": [
    {
     "data": {
      "text/plain": [
       "'True'"
      ]
     },
     "execution_count": 142,
     "metadata": {},
     "output_type": "execute_result"
    }
   ],
   "source": [
    "#13. Write a Python function that takes two lists and returns True if they have at least one common member.\n",
    "\n",
    "l1=[1,2,3,4]\n",
    "l2=[4,5,6]\n",
    "def func():\n",
    "    for i in l1:\n",
    "        if i in l2:\n",
    "            return 'True'\n",
    "    return 'false'\n",
    "\n",
    "func()"
   ]
  },
  {
   "cell_type": "code",
   "execution_count": 146,
   "id": "0fe4923a",
   "metadata": {},
   "outputs": [
    {
     "name": "stdout",
     "output_type": "stream",
     "text": [
      "[10, 15, 20, 30]\n"
     ]
    }
   ],
   "source": [
    "#14. Write a Python program to get the difference between the two lists.\n",
    "\n",
    "l1 = [10, 15, 20, 25, 30, 35, 40]\n",
    "l2 = [25, 40, 35]\n",
    " \n",
    "a = []\n",
    "for i in l1:\n",
    "    if i not in l2:\n",
    "        a.append(i)\n",
    "print(a)"
   ]
  },
  {
   "cell_type": "code",
   "execution_count": 151,
   "id": "e167cc55",
   "metadata": {},
   "outputs": [
    {
     "name": "stdout",
     "output_type": "stream",
     "text": [
      "[1, 6, 45, 56, 89]\n",
      "6 -> Second smallest number in a list\n"
     ]
    }
   ],
   "source": [
    "#15. Write a Python program to find the second smallest number in a list.\n",
    "\n",
    "l=[1,45,6,89,56]\n",
    "l.sort()\n",
    "print(l)\n",
    "print(l[1],'-> Second smallest number in a list')"
   ]
  },
  {
   "cell_type": "code",
   "execution_count": 152,
   "id": "42858fe0",
   "metadata": {},
   "outputs": [
    {
     "name": "stdout",
     "output_type": "stream",
     "text": [
      "[1, 6, 45, 56, 89]\n",
      "56 -> Second largest number in a list\n"
     ]
    }
   ],
   "source": [
    "#16.Write a Python program to find the second largest number in a list.\n",
    "\n",
    "l=[1,45,6,89,56]\n",
    "l.sort()\n",
    "print(l)\n",
    "print(l[-2],'-> Second largest number in a list')"
   ]
  },
  {
   "cell_type": "code",
   "execution_count": 155,
   "id": "410e3517",
   "metadata": {},
   "outputs": [
    {
     "name": "stdout",
     "output_type": "stream",
     "text": [
      "{101: 2, 102: 1, 103: 3, 104: 1}\n"
     ]
    }
   ],
   "source": [
    "#17. Write a Python program to get the frequency of the elements in a list\n",
    "\n",
    "s=[101,102,103,101,103,104,103]\n",
    "d={}\n",
    "for i in s:\n",
    "    j=s.count(i)\n",
    "    d.update({i:j}) \n",
    "print(d)"
   ]
  },
  {
   "cell_type": "code",
   "execution_count": 160,
   "id": "0f22e2a5",
   "metadata": {},
   "outputs": [
    {
     "name": "stdout",
     "output_type": "stream",
     "text": [
      "113350"
     ]
    }
   ],
   "source": [
    "#18. Write a Python program to convert a list of multiple integers into a single integer\n",
    "# * Sample list: [11, 33, 50]\n",
    "# * Expected Output: 113350\n",
    "\n",
    "lis = [11,33,50]\n",
    "for i in lis:\n",
    "    print(i,end='')"
   ]
  },
  {
   "cell_type": "code",
   "execution_count": 7,
   "id": "f6866068",
   "metadata": {},
   "outputs": [
    {
     "name": "stdout",
     "output_type": "stream",
     "text": [
      "color1-color2: ['orange', 'red', 'white']\n",
      "color2-color1: ['yellow', 'black']\n"
     ]
    }
   ],
   "source": [
    "#19. Write a Python program to compute the similarity between two lists.\n",
    "# * Sample data: [\"red\", \"orange\", \"green\", \"blue\", \"white\"], [\"black\", \"yellow\", \"green\", \"blue\"]\n",
    "# * Expected Output: Color1-Color2: ['white', 'orange', 'red']\n",
    "#                    Color2-Color1: ['black', 'yellow']\n",
    "\n",
    "\n",
    "l1=['red','orange','green','blue','white']\n",
    "l2=['black','yellow','green','blue']\n",
    "s1=set(l1).difference(set(l2))\n",
    "print('color1-color2:',list(s1))\n",
    "s2=set(l2).difference(set(l1))\n",
    "print('color2-color1:',list(s2))"
   ]
  },
  {
   "cell_type": "code",
   "execution_count": 32,
   "id": "96005b36",
   "metadata": {},
   "outputs": [
    {
     "data": {
      "text/plain": [
       "'true'"
      ]
     },
     "execution_count": 32,
     "metadata": {},
     "output_type": "execute_result"
    }
   ],
   "source": [
    "# 20. Write a Python program to check if all dictionaries in a list are empty or not.\n",
    "#  * Sample list : [{},{},{}]\n",
    "#  * Return value : True\n",
    "#  * Sample list : [{1:2},{},{}]\n",
    "#  * Return value : False\n",
    "\n",
    "def fun(i):\n",
    "    for i in l1:\n",
    "        if i == dict():\n",
    "            return 'true'\n",
    "        return 'false'\n",
    "l1 = [{},{},{}]\n",
    "fun(l1)"
   ]
  },
  {
   "cell_type": "code",
   "execution_count": 6,
   "id": "19451c3c",
   "metadata": {},
   "outputs": [
    {
     "name": "stdout",
     "output_type": "stream",
     "text": [
      "{'g': 2, 'o': 3, 'l': 1, 'e': 1, '.': 1, 'c': 1, 'm': 1}\n"
     ]
    }
   ],
   "source": [
    "#21. Write a Python program to count the number of characters (character frequency) in a string .\n",
    "# * Sample String : google.com'\n",
    "# * Expected Result : {'o': 3, 'g': 2, '.': 1, 'e': 1, 'l': 1, 'm': 1, 'c': 1}\n",
    "    \n",
    "\n",
    "s='google.com'\n",
    "d={}\n",
    "for i in s:\n",
    "    j=s.count(i)\n",
    "    d.update({i:j}) \n",
    "print(d)"
   ]
  },
  {
   "cell_type": "code",
   "execution_count": 38,
   "id": "60083dc0",
   "metadata": {},
   "outputs": [
    {
     "name": "stdout",
     "output_type": "stream",
     "text": [
      "resta$t\n"
     ]
    }
   ],
   "source": [
    "#22. Write a Python program to get a string from a given string where all occurrences of its first char have been changed to '$' ,\n",
    "# except the first char itself.\n",
    "# * Sample String : 'restart'\n",
    "# * Expected Result : 'resta$t'\n",
    "\n",
    "def change(s):\n",
    "    char = s[0]\n",
    "    s = s.replace(char, '$')\n",
    "    a = char + s[1:]\n",
    "    return a\n",
    "\n",
    "print(change('restart'))"
   ]
  },
  {
   "cell_type": "code",
   "execution_count": 40,
   "id": "1a2a5232",
   "metadata": {},
   "outputs": [
    {
     "data": {
      "text/plain": [
       "('organized', 9)"
      ]
     },
     "execution_count": 40,
     "metadata": {},
     "output_type": "execute_result"
    }
   ],
   "source": [
    "#23. Write a Python function that takes a list of words and returns the length of the longest one.\n",
    "\n",
    "def longest_length(s):\n",
    "    l=0\n",
    "    for i in lis:\n",
    "        if len(i)>l:\n",
    "            l=len(i)\n",
    "            a=i\n",
    "    \n",
    "    return a,l \n",
    "\n",
    "lis=['function','is','a','block','of','organized']\n",
    "longest_length(lis)"
   ]
  },
  {
   "cell_type": "code",
   "execution_count": 26,
   "id": "783ee9d8",
   "metadata": {},
   "outputs": [
    {
     "name": "stdout",
     "output_type": "stream",
     "text": [
      "python -> 2\n",
      "is -> 2\n",
      "a -> 8\n",
      "high-level -> 1\n",
      "programming -> 2\n",
      "language. -> 2\n",
      "python -> 2\n",
      "is -> 2\n",
      "popular -> 1\n",
      "programming -> 2\n",
      "language. -> 2\n"
     ]
    }
   ],
   "source": [
    "#24. Write a Python program to count the occurrences of each word in a given sentence.\n",
    "\n",
    "a='python is a high-level programming language. python is popular programming language.'\n",
    "for i in a.split():\n",
    "    print(i, '->' ,a.count(i))"
   ]
  },
  {
   "cell_type": "code",
   "execution_count": 29,
   "id": "22f40512",
   "metadata": {},
   "outputs": [
    {
     "name": "stdout",
     "output_type": "stream",
     "text": [
      "Python\n",
      "PYTHON\n"
     ]
    }
   ],
   "source": [
    "#25. Write a Python function to convert a given string to all uppercase if it contains at least 2 uppercase characters in \n",
    "# the first 4 characters.\n",
    "\n",
    "def ucase(s):\n",
    "    n = 0\n",
    "    for i in s[:4]: \n",
    "        if i.upper() == i:\n",
    "            n += 1\n",
    "    if n >= 2:\n",
    "        return s.upper()\n",
    "    return s\n",
    "\n",
    "print(ucase('Python'))\n",
    "print(ucase('PyThon'))"
   ]
  },
  {
   "cell_type": "code",
   "execution_count": 30,
   "id": "bb89e2a0",
   "metadata": {},
   "outputs": [
    {
     "name": "stdout",
     "output_type": "stream",
     "text": [
      "2\n"
     ]
    }
   ],
   "source": [
    "#26. Write a Python program to count and display the vowels of a given text\n",
    "\n",
    "s=\"tanvi\"\n",
    "l=['a','e','i','o','u','A','E','I','O','U']\n",
    "count=0\n",
    "for i in s:\n",
    "    if i in l:\n",
    "        count += 1\n",
    "print(count)\n"
   ]
  },
  {
   "cell_type": "code",
   "execution_count": 2,
   "id": "8fdb3e29",
   "metadata": {},
   "outputs": [
    {
     "name": "stdout",
     "output_type": "stream",
     "text": [
      "('string', True, False, 3.2, 1)\n"
     ]
    }
   ],
   "source": [
    "#27. Write a Python program to create a tuple with different data types.\n",
    "\n",
    "t = (\"string\",True, False, 3.2, 1)\n",
    "print(t)"
   ]
  },
  {
   "cell_type": "code",
   "execution_count": 3,
   "id": "2118e330",
   "metadata": {},
   "outputs": [
    {
     "name": "stdout",
     "output_type": "stream",
     "text": [
      "(1, 2, 3, 4, 5, 6, 7, 8, 30)\n"
     ]
    }
   ],
   "source": [
    "#28. Write a Python program to add an item in a tuple\n",
    "\n",
    "t = (1,2,3,4,5,6,7,8)\n",
    "l = list(t) \n",
    "l.append(30)\n",
    "t = tuple(l)\n",
    "print(t)\n"
   ]
  },
  {
   "cell_type": "code",
   "execution_count": 11,
   "id": "2d509a0f",
   "metadata": {},
   "outputs": [
    {
     "name": "stdout",
     "output_type": "stream",
     "text": [
      "tanvi\n"
     ]
    }
   ],
   "source": [
    "#29. Write a Python program to convert a tuple to a string.\n",
    "\n",
    "def convert(t):\n",
    "    str = ''\n",
    "    for i in t:\n",
    "        str += ''.join(i)\n",
    "    return str\n",
    " \n",
    "t = ('t', 'a', 'n', 'v', 'i')\n",
    "str = convert(t)\n",
    "print(str)"
   ]
  },
  {
   "cell_type": "code",
   "execution_count": null,
   "id": "f2d687b3",
   "metadata": {},
   "outputs": [],
   "source": [
    "#30. Write a Python program to find the repeated items of a tuple\n",
    "\n",
    "tup=(1,3,4,32,1,1,1,4)  \n",
    "c=[]\n",
    "for i in tup:\n",
    "    if tup.count(i) > 1:\n",
    "        c.append(i)\n",
    "print(c)\n",
    "a= set(c)\n",
    "print(tuple(a))"
   ]
  },
  {
   "cell_type": "code",
   "execution_count": 12,
   "id": "5b844189",
   "metadata": {},
   "outputs": [
    {
     "name": "stdout",
     "output_type": "stream",
     "text": [
      "9\n"
     ]
    }
   ],
   "source": [
    "#31. Write a Python program to find the length of a tuple.\n",
    "\n",
    "t=(1,2,3,'t','u','p','l','e','tuple')\n",
    "length=len(t)\n",
    "print(length)"
   ]
  },
  {
   "cell_type": "code",
   "execution_count": 13,
   "id": "4c82c34b",
   "metadata": {},
   "outputs": [
    {
     "name": "stdout",
     "output_type": "stream",
     "text": [
      "{'name': 'tanvi', 'age': 20}\n"
     ]
    }
   ],
   "source": [
    "#32. Write a Python program to convert a tuple to a dictionary.\n",
    "\n",
    "li=[('name','tanvi'),('age',20)]\n",
    "dic=dict(li)\n",
    "print(dic)"
   ]
  },
  {
   "cell_type": "code",
   "execution_count": 42,
   "id": "66e68986",
   "metadata": {},
   "outputs": [
    {
     "name": "stdout",
     "output_type": "stream",
     "text": [
      "[(10, 20, 100), (40, 50, 100), (70, 80, 100)]\n"
     ]
    }
   ],
   "source": [
    "#33. Write a Python program to replace last value of tuples in a list. \n",
    "# * Sample list: [(10, 20, 40), (40, 50, 60), (70, 80, 90)]\n",
    "# * Expected Output: [(10, 20, 100), (40, 50, 100), (70, 80, 100)]\n",
    "\n",
    "l1 = [(10,20,30),(40,50,60),(70,80,90)]\n",
    "l2 = []\n",
    "for i in l1:\n",
    "    i= i[:-1]+(100,)\n",
    "    l2.append(i)\n",
    "print(l2)"
   ]
  },
  {
   "cell_type": "code",
   "execution_count": 45,
   "id": "c77bfaf8",
   "metadata": {},
   "outputs": [
    {
     "name": "stdout",
     "output_type": "stream",
     "text": [
      "[(), (), ('',), ('a', 'b'), ('a', 'b', 'c'), 'd']\n"
     ]
    }
   ],
   "source": [
    "# 34. Write a Python program to replace last value of tuples in a list. \n",
    "#  * Sample data: [(), (), ('',), ('a', 'b'), ('a', 'b', 'c'), ('d')]\n",
    "#  * Expected output: [('',), ('a', 'b'), ('a', 'b', 'c'), 'd']\n",
    "\n",
    "l1 = [(), (), ('',), ('a', 'b'), ('a', 'b', 'c'), ('d')]\n",
    "list(l1[-1])\n",
    "print(l1)"
   ]
  },
  {
   "cell_type": "code",
   "execution_count": 16,
   "id": "219e1732",
   "metadata": {},
   "outputs": [
    {
     "name": "stdout",
     "output_type": "stream",
     "text": [
      "[('item3', '24.5'), ('item2', '15.10'), ('item1', '12.20')]\n"
     ]
    }
   ],
   "source": [
    "# 35. Write a Python program to sort a tuple by its float element.\n",
    "#  * Sample data: [('item1', '12.20'), ('item2', '15.10'), ('item3', '24.5')]\n",
    "#  * Expected Output: [('item3', '24.5'), ('item2', '15.10'), ('item1', '12.20')]\n",
    "\n",
    "l = [('item1', '12.20'), ('item2', '15.10'), ('item3', '24.5')]\n",
    "print( sorted(l, key=lambda x: float(x[1]), reverse=True))"
   ]
  },
  {
   "cell_type": "code",
   "execution_count": 15,
   "id": "f92e8815",
   "metadata": {},
   "outputs": [
    {
     "name": "stdout",
     "output_type": "stream",
     "text": [
      "3\n"
     ]
    }
   ],
   "source": [
    "# 36. Write a Python program to count the elements in a list until an element is a tuple.\n",
    "\n",
    "num = [10,20,30,(10,20),40]\n",
    "count = 0\n",
    "for n in num:\n",
    "    if type(n) == tuple:\n",
    "        break\n",
    "    count += 1\n",
    "print(count)"
   ]
  },
  {
   "cell_type": "code",
   "execution_count": 14,
   "id": "97731112",
   "metadata": {},
   "outputs": [
    {
     "name": "stdout",
     "output_type": "stream",
     "text": [
      "using numbers\n",
      "0 1 2 3 4 5 \n",
      "using string\n",
      "c u 3 w e o r s "
     ]
    }
   ],
   "source": [
    "# 37. Write a Python program to iteration over sets\n",
    "print('using numbers')\n",
    "n = set([0, 1, 2, 3, 4, 5])\n",
    "for i in n:\n",
    "    print(i, end=' ')\n",
    "\n",
    "print('\\nusing string')\n",
    "\n",
    "s = set(\"w3resource\")  \n",
    "for val in s:\n",
    "    print(val, end=' ')"
   ]
  },
  {
   "cell_type": "code",
   "execution_count": 13,
   "id": "4633f613",
   "metadata": {},
   "outputs": [
    {
     "name": "stdout",
     "output_type": "stream",
     "text": [
      "{'Cat', 'Lion'}\n",
      "Add single element :  {'Cat', 'Lion', 'Dog'}\n",
      "Add multiple items :  {'Panda', 'Dog', 'Tiger', 'Cat', 'Lion'}\n"
     ]
    }
   ],
   "source": [
    "# 38. Write a Python program to add member(s) in a set\n",
    "\n",
    "animal = {\"Lion\",\"Cat\"}\n",
    "print(animal)\n",
    "animal.add(\"Dog\")\n",
    "print(\"Add single element : \",animal)\n",
    "animal.update([\"Panda\", \"Tiger\"])\n",
    "print(\"Add multiple items : \",animal)"
   ]
  },
  {
   "cell_type": "code",
   "execution_count": 12,
   "id": "8ad155ae",
   "metadata": {},
   "outputs": [
    {
     "name": "stdout",
     "output_type": "stream",
     "text": [
      "Original set: {0, 1, 3, 4, 5}\n",
      "After removing : {1, 3, 4, 5}\n"
     ]
    }
   ],
   "source": [
    "# 39. Write a Python program to remove item(s) from set\n",
    "\n",
    "n = set([0, 1, 3, 4, 5])\n",
    "print(\"Original set:\",n)\n",
    "n.pop()\n",
    "print(\"After removing :\",n)"
   ]
  },
  {
   "cell_type": "code",
   "execution_count": 11,
   "id": "8c3f745b",
   "metadata": {},
   "outputs": [
    {
     "name": "stdout",
     "output_type": "stream",
     "text": [
      "Original set elements: {0, 1, 2, 3, 4, 5}\n",
      "After removing : {0, 1, 2, 3, 5}\n"
     ]
    }
   ],
   "source": [
    "# 40. Write a Python program to remove an item from a set if it is present in the set.\n",
    "\n",
    "n = set([0, 1, 2, 3, 4, 5])\n",
    "print(\"Original set elements:\",n)\n",
    "n.discard(4)\n",
    "print(\"After removing :\",n)"
   ]
  },
  {
   "cell_type": "code",
   "execution_count": 10,
   "id": "416d63b0",
   "metadata": {},
   "outputs": [
    {
     "name": "stdout",
     "output_type": "stream",
     "text": [
      "intersection:  {'blue'}\n"
     ]
    }
   ],
   "source": [
    "# 41. Write a Python program to create an intersection of sets.\n",
    "\n",
    "x = set([\"green\", \"blue\"])\n",
    "y = set([\"blue\", \"yellow\"])\n",
    "i = x.intersection(y)\n",
    "print('intersection: ',i)"
   ]
  },
  {
   "cell_type": "code",
   "execution_count": 9,
   "id": "e3d42aba",
   "metadata": {},
   "outputs": [
    {
     "name": "stdout",
     "output_type": "stream",
     "text": [
      "x - y: {'green', 'yellow'}\n",
      "y - x: {'green', 'yellow'}\n"
     ]
    }
   ],
   "source": [
    "# 42. Write a Python program to create a symmetric difference\n",
    "\n",
    "x = set([\"green\", \"blue\"])\n",
    "y = set([\"blue\", \"yellow\"])\n",
    "r1 = x.symmetric_difference(y)\n",
    "print(\"x - y:\",r1)\n",
    "r2 = y.symmetric_difference(x)\n",
    "print(\"y - x:\",r2)"
   ]
  },
  {
   "cell_type": "code",
   "execution_count": 8,
   "id": "3f2b4ad4",
   "metadata": {},
   "outputs": [
    {
     "name": "stdout",
     "output_type": "stream",
     "text": [
      "max : 20\n",
      "min : 2\n"
     ]
    }
   ],
   "source": [
    "# 43. Write a Python program to find maximum and the minimum value in a set.\n",
    "\n",
    "s = {5, 10, 3, 15, 2, 20}\n",
    "print('max :',max(s))\n",
    "print('min :',min(s))"
   ]
  },
  {
   "cell_type": "code",
   "execution_count": 7,
   "id": "a073a080",
   "metadata": {},
   "outputs": [
    {
     "name": "stdout",
     "output_type": "stream",
     "text": [
      "5\n"
     ]
    }
   ],
   "source": [
    "# 44. Write a Python program to find the length of a set.\n",
    "\n",
    "s= {1,2,3,44,56}\n",
    "print(len(s))"
   ]
  },
  {
   "cell_type": "code",
   "execution_count": 6,
   "id": "00d8c4fa",
   "metadata": {},
   "outputs": [
    {
     "name": "stdout",
     "output_type": "stream",
     "text": [
      "* \n",
      "* * \n",
      "* * * \n",
      "* * * * \n",
      "* * * * * \n",
      "* * * *  \n",
      "* * *  \n",
      "* *  \n",
      "*  \n",
      " \n"
     ]
    }
   ],
   "source": [
    "# 45. Write a Python program to construct the following pattern, using a nested for loop. \n",
    "#  * \n",
    "#  * * \n",
    "#  * * * \n",
    "#  * * * * \n",
    "#  * * * * * \n",
    "#  * * * * \n",
    "#  * * * \n",
    "#  * * \n",
    "#  *\n",
    "\n",
    "n = 5\n",
    "for i in range(0, n):\n",
    "    for j in range(0, i + 1):\n",
    "        print(\"*\", end=' ')\n",
    "    print(\"\")\n",
    "\n",
    "for i in range(n, 0, -1):\n",
    "    for j in range(0, i - 1):\n",
    "        print(\"*\", end=' ')\n",
    "    print(\" \")"
   ]
  },
  {
   "cell_type": "code",
   "execution_count": 5,
   "id": "fd3703c4",
   "metadata": {},
   "outputs": [
    {
     "name": "stdout",
     "output_type": "stream",
     "text": [
      "Number of even numbers : 5\n",
      "Number of odd numbers : 4\n"
     ]
    }
   ],
   "source": [
    "# 46. Write a Python program to count the number of even and odd numbers from a series of numbers. \n",
    "#  * Sample numbers : numbers = (1, 2, 3, 4, 5, 6, 7, 8, 9) \n",
    "#  * Expected Output : Number of even numbers : 5\n",
    "#                      Number of odd numbers : 4\n",
    "\n",
    "numbers = (1, 2, 3, 4, 5, 6, 7, 8, 9) \n",
    "odd = 0\n",
    "even = 0\n",
    "for i in numbers:\n",
    "        if not i % 2 == 0:\n",
    "            even += 1\n",
    "        else:\n",
    "            odd += 1\n",
    "print(\"Number of even numbers :\",even)\n",
    "print(\"Number of odd numbers :\",odd)"
   ]
  },
  {
   "cell_type": "code",
   "execution_count": 4,
   "id": "59c50b24",
   "metadata": {},
   "outputs": [
    {
     "name": "stdout",
     "output_type": "stream",
     "text": [
      "0 1 2 4 5 "
     ]
    }
   ],
   "source": [
    "# 47. Write a Python program that prints all the numbers from 0 to 6 except 3 and 6.\n",
    "#  * Note : Use 'continue' statement. \n",
    "#  * Expected Output : 0 1 2 4 5\n",
    "\n",
    "for x in range(6):\n",
    "    if (x == 3 or x == 6):\n",
    "        continue\n",
    "    print(x,end=' ')"
   ]
  },
  {
   "cell_type": "code",
   "execution_count": 3,
   "id": "d7d043b4",
   "metadata": {},
   "outputs": [
    {
     "name": "stdout",
     "output_type": "stream",
     "text": [
      "0\n",
      "1\n",
      "1\n",
      "2\n",
      "3\n",
      "5\n",
      "8\n",
      "13\n",
      "21\n",
      "34\n"
     ]
    }
   ],
   "source": [
    "# 48. Write a Python program to get the Fibonacci series between 0 to 50. \n",
    "#     Note : The Fibonacci Sequence is the series of numbers : 0, 1, 1, 2, 3, 5, 8, 13, 21, .... \n",
    "#  * Every next number is found by adding up the two numbers before it.\n",
    "#  * Expected Output : 1 1 2 3 5 8 13 21 34\n",
    "\n",
    "n1 = 0\n",
    "n2 = 1\n",
    "print(n1)\n",
    "print(n2)\n",
    "for i in range (1,9):\n",
    "    fs = n1+n2\n",
    "    print(fs)\n",
    "    n1=n2\n",
    "    n2=fs"
   ]
  },
  {
   "cell_type": "code",
   "execution_count": 2,
   "id": "feda4256",
   "metadata": {},
   "outputs": [
    {
     "name": "stdout",
     "output_type": "stream",
     "text": [
      "enter rows : 3\n",
      "enter columns : 4\n",
      "[[0, 0, 0, 0], [0, 1, 2, 3], [0, 2, 4, 6]]\n"
     ]
    }
   ],
   "source": [
    "# 49. Write a Python program which takes two digits m (row) and n (column) as input and generates a two-dimensional array. \n",
    "# The element value in the i-th row and j-th column of the array should be i*j. \n",
    "# Note :\n",
    "#  * i = 0,1.., m-1 \n",
    "#  * j = 0,1, n-1.\n",
    "#  * Test Data : Rows = 3, Columns = 4 \n",
    "#  * Expected Result : [[0, 0, 0, 0], [0, 1, 2, 3], [0, 2, 4, 6]]\n",
    "\n",
    "m=int(input(\"enter rows : \"))\n",
    "n=int(input(\"enter columns : \"))\n",
    "b = []\n",
    "for i in range(m):\n",
    "    a = []\n",
    "    for j in range(n):\n",
    "        a.append(i*j)\n",
    "    b.append(a)\n",
    "\n",
    "print(b)"
   ]
  },
  {
   "cell_type": "code",
   "execution_count": 1,
   "id": "4ec19d41",
   "metadata": {},
   "outputs": [
    {
     "name": "stdout",
     "output_type": "stream",
     "text": [
      "200,202,204,206,208,220,222,224,226,228,240,242,244,246,248,260,262,264,266,268,280,282,284,286,288,400\n"
     ]
    }
   ],
   "source": [
    "# 50. Write a Python program to find numbers between 100 and 400 (both included) where each digit of a number is an even number. The numbers obtained should be printed in a \n",
    "# comma-separated sequence\n",
    "\n",
    "a = []\n",
    "for i in range(100, 401):\n",
    "    s = str(i)\n",
    "    if (int(s[0])%2==0) and (int(s[1])%2==0) and (int(s[2])%2==0):\n",
    "        a.append(s)\n",
    "print( \",\".join(a))"
   ]
  },
  {
   "cell_type": "code",
   "execution_count": 37,
   "id": "b1b7a148",
   "metadata": {},
   "outputs": [
    {
     "name": "stdout",
     "output_type": "stream",
     "text": [
      "  *** \n",
      " *   *\n",
      " *   *\n",
      " *****\n",
      " *   *\n",
      " *   *\n",
      "\n"
     ]
    }
   ],
   "source": [
    "# 51. Write a Python program to print alphabet pattern 'A'.\n",
    "\n",
    "p=\"\"\n",
    "for row in range(0,6):    \n",
    "    for column in range(0,6):     \n",
    "        if (((column == 1 or column == 5) and row != 0) or ((row == 0 or row == 3) and (column > 1 and column < 5))):    \n",
    "            p = p+\"*\"    \n",
    "        else:      \n",
    "            p = p+\" \"    \n",
    "    p = p+\"\\n\"    \n",
    "print(p)"
   ]
  },
  {
   "cell_type": "code",
   "execution_count": 13,
   "id": "060a8852",
   "metadata": {},
   "outputs": [
    {
     "name": "stdout",
     "output_type": "stream",
     "text": [
      " **** \n",
      " *   *\n",
      " *   *\n",
      " **** \n",
      " *    \n",
      " *    \n",
      "\n"
     ]
    }
   ],
   "source": [
    "# 52. Write a Python program to print alphabet pattern 'P'\n",
    "\n",
    "str=\"\"\n",
    "for Row in range(0,6):\n",
    "    for Col in range(0,6):\n",
    "        if (Col == 1 or ((Row == 0 or Row == 3) and Col > 0 and Col < 5) or ((Col == 5 or Col == 1) and (Row == 1 or Row == 2))):\n",
    "            str=str+\"*\"\n",
    "        else:\n",
    "            str=str+\" \"\n",
    "    str=str+\"\\n\"\n",
    "print(str)"
   ]
  },
  {
   "cell_type": "code",
   "execution_count": 17,
   "id": "9273ae0c",
   "metadata": {},
   "outputs": [
    {
     "data": {
      "text/plain": [
       "'Triangle is valid'"
      ]
     },
     "execution_count": 17,
     "metadata": {},
     "output_type": "execute_result"
    }
   ],
   "source": [
    "#53. Write a Python program to check a triangle is valid or not.\n",
    "\n",
    "def triangle(a,b,c):\n",
    "    if a+b>=c and b+c>=a and c+a>=b:\n",
    "        return 'Triangle is valid'\n",
    "    else:\n",
    "        return 'Triangle is not valid'\n",
    "\n",
    "triangle(5,3,6)"
   ]
  },
  {
   "cell_type": "code",
   "execution_count": 18,
   "id": "48507835",
   "metadata": {},
   "outputs": [
    {
     "name": "stdout",
     "output_type": "stream",
     "text": [
      "Input a number: 12\n",
      "12 x 1 = 12\n",
      "12 x 2 = 24\n",
      "12 x 3 = 36\n",
      "12 x 4 = 48\n",
      "12 x 5 = 60\n",
      "12 x 6 = 72\n",
      "12 x 7 = 84\n",
      "12 x 8 = 96\n",
      "12 x 9 = 108\n",
      "12 x 10 = 120\n"
     ]
    }
   ],
   "source": [
    "#54. Write a Python program to create the multiplication table (from 1 to 10) of a number.\n",
    "\n",
    "n = int(input(\"Input a number: \"))\n",
    "\n",
    "for i in range(1,11):\n",
    "    print(n,'x',i,'=',n*i)"
   ]
  },
  {
   "cell_type": "code",
   "execution_count": 21,
   "id": "08d99102",
   "metadata": {},
   "outputs": [
    {
     "name": "stdout",
     "output_type": "stream",
     "text": [
      "1  \n",
      "2 2  \n",
      "3 3 3  \n",
      "4 4 4 4  \n",
      "5 5 5 5 5  \n",
      "6 6 6 6 6 6  \n",
      "7 7 7 7 7 7 7  \n",
      "8 8 8 8 8 8 8 8  \n",
      "9 9 9 9 9 9 9 9 9  \n"
     ]
    }
   ],
   "source": [
    "# 55. Write a Python program to construct the following pattern, using a nested loop number.\n",
    "#  1\n",
    "#  22\n",
    "#  333\n",
    "#  4444\n",
    "#  55555\n",
    "#  666666\n",
    "#  7777777\n",
    "#  88888888\n",
    "#  999999999\n",
    "\n",
    "n = 10\n",
    "for i in range(1,n):\n",
    "    for j in range(0,i,1):\n",
    "        print(i,end=\" \")\n",
    "    print(\" \")"
   ]
  },
  {
   "cell_type": "code",
   "execution_count": 7,
   "id": "7d329173",
   "metadata": {},
   "outputs": [
    {
     "name": "stdout",
     "output_type": "stream",
     "text": [
      "10\n"
     ]
    }
   ],
   "source": [
    "# 56. Write a Python function to find the Max of three numbers.\n",
    "\n",
    "def fun(a, b, c):\n",
    "    list = [a, b, c]\n",
    "    return max(list)\n",
    "print(fun(10, b=1, c=8))"
   ]
  },
  {
   "cell_type": "code",
   "execution_count": 9,
   "id": "b8e1d36f",
   "metadata": {},
   "outputs": [
    {
     "data": {
      "text/plain": [
       "232"
      ]
     },
     "execution_count": 9,
     "metadata": {},
     "output_type": "execute_result"
    }
   ],
   "source": [
    "# 57. Write a Python function to sum all the numbers in a list\n",
    "\n",
    "l=[1,2,33,65,73,1,57]\n",
    "sum(l)\n",
    "\n",
    "# def sum(n):\n",
    "#     total = 0\n",
    "#     for i in n:\n",
    "#         total += i\n",
    "#     return total\n",
    "# print(sum((8, 2, 3, 0, 7)))"
   ]
  },
  {
   "cell_type": "code",
   "execution_count": 12,
   "id": "002e3fc8",
   "metadata": {},
   "outputs": [
    {
     "name": "stdout",
     "output_type": "stream",
     "text": [
      "336\n"
     ]
    }
   ],
   "source": [
    "# 58. Write a Python function to multiply all the numbers in a list\n",
    "\n",
    "def mul(numbers):\n",
    "    total = 1\n",
    "    for x in numbers:\n",
    "        total = total * x\n",
    "    return total\n",
    "print(mul((8, 2, 3, 7)))"
   ]
  },
  {
   "cell_type": "code",
   "execution_count": 20,
   "id": "f7d53eb5",
   "metadata": {},
   "outputs": [
    {
     "name": "stdout",
     "output_type": "stream",
     "text": [
      "The quick Brown Fox\n",
      "Upper case characters :  3\n",
      "Lower case Characters :  13\n"
     ]
    }
   ],
   "source": [
    "# 59. Write a Python function that accepts a string and calculate the number of upper case letters and lower case letters.\n",
    "\n",
    "def count(s):\n",
    "    d={\"upper\":0, \"lower\":0}\n",
    "    for i in s:\n",
    "        if i.isupper():\n",
    "            d[\"upper\"]+=1\n",
    "        elif i.islower():\n",
    "            d[\"lower\"]+=1\n",
    "        else:\n",
    "            pass\n",
    "    print (s)\n",
    "    print (\"Upper case characters : \", d[\"upper\"])\n",
    "    print (\"Lower case Characters : \", d[\"lower\"])\n",
    "\n",
    "count('The quick Brown Fox')"
   ]
  },
  {
   "cell_type": "code",
   "execution_count": 23,
   "id": "f9df515b",
   "metadata": {},
   "outputs": [
    {
     "name": "stdout",
     "output_type": "stream",
     "text": [
      "[1, 2, 3, 4, 5]\n"
     ]
    }
   ],
   "source": [
    "# 60. Write a Python function that takes a list and returns a new list with unique elements of the first list\n",
    "\n",
    "def list(l):\n",
    "    x = []\n",
    "    for i in l:\n",
    "        if i not in x:\n",
    "            x.append(i)\n",
    "    return x\n",
    "\n",
    "print(list([1,2,3,3,3,3,4,5])) "
   ]
  },
  {
   "cell_type": "code",
   "execution_count": 29,
   "id": "89379374",
   "metadata": {},
   "outputs": [
    {
     "name": "stdout",
     "output_type": "stream",
     "text": [
      "[2, 4, 6, 8, 10]\n"
     ]
    }
   ],
   "source": [
    "# 61. Write a Python program to print the even numbers from a given list\n",
    "\n",
    "l = [1,2,3,4,5,6,7,8,9,10]\n",
    "evenlis = []\n",
    "for i in l:\n",
    "    if i%2 == 0:\n",
    "        evenlis.append(i)\n",
    "print(evenlis)"
   ]
  },
  {
   "cell_type": "code",
   "execution_count": 34,
   "id": "f26d7cec",
   "metadata": {},
   "outputs": [
    {
     "data": {
      "text/plain": [
       "('121', 'String is palindrome')"
      ]
     },
     "execution_count": 34,
     "metadata": {},
     "output_type": "execute_result"
    }
   ],
   "source": [
    "# 62. Write a Python function that checks whether a passed string is palindrome or not\n",
    "\n",
    "def palindrome(s):\n",
    "    rs = s[::-1]\n",
    "    if s == rs: \n",
    "        return s ,'String is palindrome'\n",
    "    return s ,'String is not a palindrome'\n",
    "palindrome('121')"
   ]
  },
  {
   "cell_type": "code",
   "execution_count": 17,
   "id": "e2153cf8",
   "metadata": {},
   "outputs": [
    {
     "data": {
      "text/plain": [
       "15"
      ]
     },
     "execution_count": 17,
     "metadata": {},
     "output_type": "execute_result"
    }
   ],
   "source": [
    "# 63. Write a Python program to access a function inside a function.\n",
    "\n",
    "def fun(x):\n",
    "      def fun1(y):\n",
    "        return x+y\n",
    "      return fun1\n",
    "a = fun(5)\n",
    "a(10)"
   ]
  },
  {
   "cell_type": "code",
   "execution_count": 1,
   "id": "748a0b52",
   "metadata": {},
   "outputs": [
    {
     "name": "stdout",
     "output_type": "stream",
     "text": [
      "3\n"
     ]
    }
   ],
   "source": [
    "# 64. Write a Python program to detect the number of local variables declared in a function.\n",
    "\n",
    "def function():\n",
    "    x = 1\n",
    "    y = 2\n",
    "    str1= \"Tanvi\"\n",
    "    print(\"Python Exercises\")\n",
    "\n",
    "print(function.__code__.co_nlocals)"
   ]
  }
 ],
 "metadata": {
  "kernelspec": {
   "display_name": "Python 3 (ipykernel)",
   "language": "python",
   "name": "python3"
  },
  "language_info": {
   "codemirror_mode": {
    "name": "ipython",
    "version": 3
   },
   "file_extension": ".py",
   "mimetype": "text/x-python",
   "name": "python",
   "nbconvert_exporter": "python",
   "pygments_lexer": "ipython3",
   "version": "3.10.9"
  }
 },
 "nbformat": 4,
 "nbformat_minor": 5
}
